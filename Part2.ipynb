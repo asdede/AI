{
 "cells": [
  {
   "cell_type": "markdown",
   "metadata": {},
   "source": [
    "# Neural networks with PyTorch\n",
    "\n",
    "Deep learning networks tend to be massive with dozens or hundreds of layers, that's where the term \"deep\" comes from. You can build one of these deep networks using only weight matrices as we did in the previous notebook, but in general it's very cumbersome and difficult to implement. PyTorch has a nice module `nn` that provides a nice way to efficiently build large neural networks."
   ]
  },
  {
   "cell_type": "code",
   "execution_count": 2,
   "metadata": {
    "tags": []
   },
   "outputs": [],
   "source": [
    "# Import necessary packages\n",
    "\n",
    "%matplotlib inline\n",
    "%config InlineBackend.figure_format = 'retina'\n",
    "\n",
    "import numpy as np\n",
    "import torch\n",
    "\n",
    "import sys\n",
    "sys.path.insert(0, '../answers')\n",
    "import helper\n",
    "\n",
    "import matplotlib.pyplot as plt"
   ]
  },
  {
   "cell_type": "markdown",
   "metadata": {},
   "source": [
    "\n",
    "Now we're going to build a larger network that can solve a (formerly) difficult problem, identifying text in an image. Here we'll use the MNIST dataset which consists of greyscale handwritten digits. Each image is 28x28 pixels, you can see a sample below\n",
    "\n",
    "<img src='../data/assets/mnist.png'>\n",
    "\n",
    "Our goal is to build a neural network that can take one of these images and predict the digit in the image.\n",
    "\n",
    "First up, we need to get our dataset. This is provided through the `torchvision` package. The code below will download the MNIST dataset, then create training and test datasets for us. Don't worry too much about the details here, you'll learn more about this later."
   ]
  },
  {
   "cell_type": "code",
   "execution_count": 3,
   "metadata": {
    "tags": []
   },
   "outputs": [],
   "source": [
    "### Run this cell\n",
    "\n",
    "from torchvision import datasets, transforms\n",
    "\n",
    "# Define a transform to normalize the data\n",
    "transform = transforms.Compose([transforms.ToTensor(),\n",
    "                              transforms.Normalize((0.5,), (0.5,)),\n",
    "                              ])\n",
    "\n",
    "# Download and load the training data\n",
    "trainset = datasets.MNIST('~/.pytorch/MNIST_data/', download=True, train=True, transform=transform)\n",
    "trainloader = torch.utils.data.DataLoader(trainset, batch_size=64, shuffle=True)"
   ]
  },
  {
   "cell_type": "markdown",
   "metadata": {},
   "source": [
    "We have the training data loaded into `trainloader` and we make that an iterator with `iter(trainloader)`. Later, we'll use this to loop through the dataset for training, like\n",
    "\n",
    "```python\n",
    "for image, label in trainloader:\n",
    "    ## do things with images and labels\n",
    "```\n",
    "\n",
    "You'll notice I created the `trainloader` with a batch size of 64, and `shuffle=True`. The batch size is the number of images we get in one iteration from the data loader and pass through our network, often called a *batch*. And `shuffle=True` tells it to shuffle the dataset every time we start going through the data loader again. But here I'm just grabbing the first batch so we can check out the data. We can see below that `images` is just a tensor with size `(64, 1, 28, 28)`. So, 64 images per batch, 1 color channel, and 28x28 images."
   ]
  },
  {
   "cell_type": "code",
   "execution_count": 4,
   "metadata": {
    "tags": []
   },
   "outputs": [
    {
     "name": "stdout",
     "output_type": "stream",
     "text": [
      "<class 'torch.Tensor'>\n",
      "torch.Size([64, 1, 28, 28])\n",
      "torch.Size([64])\n"
     ]
    }
   ],
   "source": [
    "dataiter = iter(trainloader)\n",
    "images, labels = next(dataiter)\n",
    "print(type(images))\n",
    "print(images.shape)\n",
    "print(labels.shape)"
   ]
  },
  {
   "cell_type": "markdown",
   "metadata": {},
   "source": [
    "This is what one of the images looks like. "
   ]
  },
  {
   "cell_type": "code",
   "execution_count": 5,
   "metadata": {
    "tags": []
   },
   "outputs": [
    {
     "name": "stdout",
     "output_type": "stream",
     "text": [
      "Label: 8\n"
     ]
    },
    {
     "data": {
      "image/png": "[encoded data removed]",
      "text/plain": [
       "<Figure size 640x480 with 1 Axes>"
      ]
     },
     "metadata": {
      "image/png": {
       "height": 413,
       "width": 416
      }
     },
     "output_type": "display_data"
    }
   ],
   "source": [
    "plt.imshow(images[1].numpy().squeeze(), cmap='Greys_r');\n",
    "print(\"Label:\",labels[1].item())"
   ]
  },
  {
   "cell_type": "markdown",
   "metadata": {},
   "source": [
    "First, let's try to build a simple network for this dataset using weight matrices and matrix multiplications. Then, we'll see how to do it using PyTorch's `nn` module which provides a much more convenient and powerful method for defining network architectures.\n",
    "\n",
    "The networks you've seen so far are called *fully-connected* or *dense* networks. Each unit in one layer is connected to each unit in the next layer. In fully-connected networks, the input to each layer must be a one-dimensional vector (which can be stacked into a 2D tensor as a batch of multiple examples). However, our images are 28x28 2D tensors, so we need to convert them into 1D vectors. Thinking about sizes, we need to convert the batch of images with shape `(64, 1, 28, 28)` to a have a shape of `(64, 784)`, 784 is 28 times 28. This is typically called *flattening*, we flattened the 2D images into 1D vectors.\n",
    "\n",
    "Previously you built a network with one output unit. Here we need 10 output units, one for each digit. We want our network to predict the digit shown in an image, so what we'll do is calculate probabilities that the image is of any one digit or class. This ends up being a discrete probability distribution over the classes (digits) that tells us the most likely class for the image. That means we need 10 output units for the 10 classes (digits). We'll see how to convert the network output into a probability distribution next.\n"
   ]
  },
  {
   "cell_type": "markdown",
   "metadata": {},
   "source": [
    "***\n",
    "### Exercise:\n",
    "Flatten the batch of images `images`. Then build a multi-layer network with 784 input units, 256 hidden units, and 10 output units using random tensors for the weights and biases. For now, use a sigmoid activation for the hidden layer. Leave the output layer without an activation, we'll add one that gives us a probability distribution next. Set output to variable `output1`"
   ]
  },
  {
   "cell_type": "code",
   "execution_count": 6,
   "metadata": {
    "scrolled": true,
    "tags": []
   },
   "outputs": [],
   "source": [
    "## Task 1:\n",
    "## Your code here\n",
    "hidden_size = 256\n",
    "output_size = 10\n",
    "batch_size = 64\n",
    "\n",
    "flat = images.view(64,-1)\n",
    "flat.shape\n",
    "\n",
    "\n",
    "weights_hidden = torch.randn(flat.shape[1], hidden_size)\n",
    "bias_hidden = torch.randn(hidden_size)\n",
    "\n",
    "weights_output = torch.randn(hidden_size, output_size)\n",
    "bias_output = torch.randn(output_size)\n",
    "\n",
    "hidden_layer_output = torch.sigmoid(flat @ weights_hidden + bias_hidden)\n",
    "\n",
    "output1 = hidden_layer_output @ weights_output + bias_output"
   ]
  },
  {
   "cell_type": "code",
   "execution_count": 7,
   "metadata": {
    "tags": []
   },
   "outputs": [
    {
     "name": "stdout",
     "output_type": "stream",
     "text": [
      "Network output shape:\n",
      "torch.Size([64, 10])\n"
     ]
    }
   ],
   "source": [
    "# output of your network, should have shape (64,10)\n",
    "print(\"Network output shape:\") \n",
    "print(output1.shape) "
   ]
  },
  {
   "cell_type": "markdown",
   "metadata": {},
   "source": [
    "***"
   ]
  },
  {
   "cell_type": "markdown",
   "metadata": {},
   "source": [
    "Now we have 10 outputs for our network. We want to pass in an image to our network and get out a probability distribution over the classes that tells us the likely class(es) the image belongs to. Something that looks like this:\n",
    "<img src='../data/assets/image_distribution.png' width=500px>\n",
    "\n",
    "Here we see that the probability for each class is roughly the same. This is representing an untrained network, it hasn't seen any data yet so it just returns a uniform distribution with equal probabilities for each class.\n",
    "\n",
    "To calculate this probability distribution, we often use the [**softmax** function](https://en.wikipedia.org/wiki/Softmax_function). Mathematically this looks like\n",
    "\n",
    "$$\n",
    "\\Large \\sigma(x_i) = \\cfrac{e^{x_i}}{\\sum_k^K{e^{x_k}}}\n",
    "$$\n",
    "\n",
    "What this does is squish each input $x_i$ between 0 and 1 and normalizes the values to give you a proper probability distribution where the probabilites sum up to one."
   ]
  },
  {
   "cell_type": "markdown",
   "metadata": {
    "tags": []
   },
   "source": [
    "***\n",
    "### Exercise:\n",
    "Implement a function `softmax` that performs the softmax calculation and returns probability distributions for each example in the batch. Note that you'll need to pay attention to the shapes when doing this. If you have a tensor `a` with shape `(64, 10)` and a tensor `b` with shape `(64,)`, doing `a/b` will give you an error because PyTorch will try to do the division across the columns (called broadcasting) but you'll get a size mismatch. The way to think about this is for each of the 64 examples, you only want to divide by one value, the sum in the denominator. So you need `b` to have a shape of `(64, 1)`. This way PyTorch will divide the 10 values in each row of `a` by the one value in each row of `b`. Pay attention to how you take the sum as well. You'll need to define the `dim` keyword in `torch.sum`. Setting `dim=0` takes the sum across the rows while `dim=1` takes the sum across the columns.\n",
    "\n",
    "***Hint.*** *Use this function frame:*  \n",
    "```python\n",
    "def softmax_func(input):\n",
    "  output = your_code_here\n",
    "  return output\n",
    "```"
   ]
  },
  {
   "cell_type": "code",
   "execution_count": 8,
   "metadata": {
    "tags": []
   },
   "outputs": [],
   "source": [
    "## Task 2:\n",
    "## Your code here \n",
    "def softmax_func(input):\n",
    "    softmax = torch.nn.Softmax(dim=1)\n",
    "    output = softmax(input)\n",
    "    return output\n",
    " "
   ]
  },
  {
   "cell_type": "code",
   "execution_count": 9,
   "metadata": {
    "tags": []
   },
   "outputs": [],
   "source": [
    "## Task 2:\n",
    "## Your code here \n",
    "def softmax_func(input):\n",
    "    output= torch.exp(input) / (torch.sum(torch.exp(input),dim=1,keepdim=True))\n",
    "    return output"
   ]
  },
  {
   "cell_type": "code",
   "execution_count": 10,
   "metadata": {
    "tags": []
   },
   "outputs": [
    {
     "name": "stdout",
     "output_type": "stream",
     "text": [
      "torch.Size([64, 10])\n",
      "tensor([1.0000, 1.0000, 1.0000, 1.0000, 1.0000, 1.0000, 1.0000, 1.0000, 1.0000,\n",
      "        1.0000, 1.0000, 1.0000, 1.0000, 1.0000, 1.0000, 1.0000, 1.0000, 1.0000,\n",
      "        1.0000, 1.0000, 1.0000, 1.0000, 1.0000, 1.0000, 1.0000, 1.0000, 1.0000,\n",
      "        1.0000, 1.0000, 1.0000, 1.0000, 1.0000, 1.0000, 1.0000, 1.0000, 1.0000,\n",
      "        1.0000, 1.0000, 1.0000, 1.0000, 1.0000, 1.0000, 1.0000, 1.0000, 1.0000,\n",
      "        1.0000, 1.0000, 1.0000, 1.0000, 1.0000, 1.0000, 1.0000, 1.0000, 1.0000,\n",
      "        1.0000, 1.0000, 1.0000, 1.0000, 1.0000, 1.0000, 1.0000, 1.0000, 1.0000,\n",
      "        1.0000])\n"
     ]
    }
   ],
   "source": [
    "# Here, out should be the output of the network in the previous excercise with shape (64,10)\n",
    "probabilities = softmax_func(output1)\n",
    "# Does it have the right shape? Should be (64, 10)\n",
    "print(probabilities.shape)\n",
    "# Does it sum to 1?\n",
    "print(probabilities.sum(dim=1))"
   ]
  },
  {
   "cell_type": "code",
   "execution_count": 11,
   "metadata": {
    "tags": []
   },
   "outputs": [
    {
     "name": "stdout",
     "output_type": "stream",
     "text": [
      "Label: 4\n"
     ]
    },
    {
     "data": {
      "image/png": "[encoded data removed]",
      "text/plain": [
       "<Figure size 640x480 with 1 Axes>"
      ]
     },
     "metadata": {
      "image/png": {
       "height": 413,
       "width": 547
      }
     },
     "output_type": "display_data"
    }
   ],
   "source": [
    "# Note. Actually your current probabilities does not look like picture above... :) \n",
    "# You can try here values 0...63\n",
    "plot_prob_for_Nth_digit = 10\n",
    "plt.stem(probabilities[plot_prob_for_Nth_digit, :])\n",
    "print(\"Label:\", labels[plot_prob_for_Nth_digit].item())\n"
   ]
  },
  {
   "cell_type": "markdown",
   "metadata": {},
   "source": [
    "***"
   ]
  },
  {
   "cell_type": "markdown",
   "metadata": {},
   "source": [
    "## Error function (=loss) - Categorical Cross Entropy Loss\n",
    "\n",
    "Error function is used to estimate how good or actually bad our estimation is. Different type of machine learning algorithms use different types or error function, but basic idea is always same to estimate error to correct answer. And lower value is always better. By using this metric optimization algorithms e.g. gradient decent can optimize system performance. \n",
    "\n",
    "In machine learning error is also known as loss.\n",
    "\n",
    "Below you can find an error function for picture classification, I.e. Categorical Cross Entropy Loss. N in that equation is number of samples (=images) in mini-batch.  \n",
    "\n",
    "$$Error = -{1 \\over N} \\sum_{i=1}^{N} [y^{(i)}log(\\hat{y}^{(i)}) + (1-y^{(i)}) log(1-\\hat{y}^{(i)})]$$ \n"
   ]
  },
  {
   "cell_type": "markdown",
   "metadata": {},
   "source": [
    "***\n",
    "### Exercise:\n",
    "Implement an error calculation function for digit classification (10 classes, from 0 to 9). And calculate error value for exercise 2.2 propabilities.\n",
    "\n",
    "***Hint.*** *Use this function frame:*  \n",
    "```python\n",
    "def error_func(y_hat, y):\n",
    "    \n",
    "  ## Implementation Tip: transform y first to one-hot vector matrix \n",
    "  output = your_code_here\n",
    "  \n",
    "  return output\n",
    "```"
   ]
  },
  {
   "cell_type": "code",
   "execution_count": 12,
   "metadata": {
    "tags": []
   },
   "outputs": [],
   "source": [
    "## Task 3:\n",
    "## Your code here \n",
    "def error_func(y_hat,y):\n",
    "    y_onehot = torch.nn.functional.one_hot(y, num_classes=y_hat.size(1))\n",
    "    output = - 1/len(y_hat) * torch.sum(y_onehot * torch.log(y_hat) + (1 - y_onehot) * torch.log(1-y_hat))\n",
    "    #l1 =  torch.sum((y_onehot[0] * torch.log(y_hat[0])) + ((1 - y_onehot[0]) * torch.log(1 - y_hat[0])))\n",
    "    #print(l1)\n",
    "    #l2 =  torch.sum((y_onehot[1] * torch.log(y_hat[1])) + ((1 - y_onehot[1]) * torch.log(1 - y_hat[1])))\n",
    "    #print(l2)\n",
    "    #l3 =  torch.sum((y_onehot[2] * torch.log(y_hat[2])) + ((1 - y_onehot[2]) * torch.log(1 - y_hat[2])))\n",
    "    #print(l3)\n",
    "    #output = - (1/len(y_hat)) * (l1+l2+l3)\n",
    "    return output \n"
   ]
  },
  {
   "cell_type": "code",
   "execution_count": 13,
   "metadata": {
    "tags": []
   },
   "outputs": [
    {
     "name": "stdout",
     "output_type": "stream",
     "text": [
      "Test error = tensor(2.4321)\n",
      "Digit batch error = tensor(inf)\n"
     ]
    }
   ],
   "source": [
    "## Test your function\n",
    "test_labels = torch.tensor([0, 1, 6])\n",
    "test_probs = torch.tensor([[0.01, 0.91, 0.01, 0.01, 0.01, 0.01, 0.01, 0.01, 0.01, 0.01],\n",
    "                           [0.01, 0.91, 0.01, 0.01, 0.01, 0.01, 0.01, 0.01, 0.01, 0.01],\n",
    "                           [0.001, 0.001, 0.001, 0.001, 0.001, 0.001, 0.991, 0.001, 0.001, 0.001]])\n",
    "\n",
    "test_error = error_func(test_probs, test_labels)\n",
    "print(\"Test error =\", test_error)\n",
    "\n",
    "#print(probabilities)\n",
    "digit_batch_error = error_func(probabilities, labels)\n",
    "print(\"Digit batch error =\", digit_batch_error)"
   ]
  },
  {
   "cell_type": "markdown",
   "metadata": {},
   "source": [
    "If you did this correctly, you should see the output \n",
    "`Test error= tensor(2.4321)`. \n",
    "\n",
    "**Tip1:** Error values for 3 test samples are `tensor([7.0935, 0.1848, 0.0180])`.     \n",
    "**Tip2:** If you see error `/opt/conda/lib/python3.6/site-packages/ipykernel_launcher.py:14: RuntimeWarning: divide by zero encountered in log`, your model suffers vanishing/exploding weights (some probability values become ~ 0). You can fix this by scaling down your weights w1 and w2 in exercise 2.1. \n",
    "***\n"
   ]
  },
  {
   "cell_type": "markdown",
   "metadata": {},
   "source": [
    "## Building networks with PyTorch\n",
    "\n",
    "PyTorch provides a module `nn` that makes building networks much simpler. Here I'll show you how to build the same one as above with 784 inputs, 256 hidden units, 10 output units and a softmax output."
   ]
  },
  {
   "cell_type": "code",
   "execution_count": 14,
   "metadata": {
    "tags": []
   },
   "outputs": [],
   "source": [
    "from torch import nn"
   ]
  },
  {
   "cell_type": "code",
   "execution_count": 15,
   "metadata": {
    "tags": []
   },
   "outputs": [],
   "source": [
    "class Network(nn.Module):\n",
    "    def __init__(self):\n",
    "        super().__init__()\n",
    "        \n",
    "        # Inputs to hidden layer linear transformation\n",
    "        self.hidden = nn.Linear(784, 256)\n",
    "        # Output layer, 10 units - one for each digit\n",
    "        self.output = nn.Linear(256, 10)\n",
    "        \n",
    "        # Define sigmoid activation and softmax output \n",
    "        self.sigmoid = nn.Sigmoid()\n",
    "        self.softmax = nn.Softmax(dim=1)\n",
    "        \n",
    "    def forward(self, x):\n",
    "        # Pass the input tensor through each of our operations\n",
    "        x = self.hidden(x)\n",
    "        x = self.sigmoid(x)\n",
    "        x = self.output(x)\n",
    "        x = self.softmax(x)\n",
    "        \n",
    "        return x"
   ]
  },
  {
   "cell_type": "markdown",
   "metadata": {},
   "source": [
    "Let's go through this bit by bit.\n",
    "\n",
    "```python\n",
    "class Network(nn.Module):\n",
    "```\n",
    "\n",
    "Here we're inheriting from `nn.Module`. Combined with `super().__init__()` this creates a class that tracks the architecture and provides a lot of useful methods and attributes. It is mandatory to inherit from `nn.Module` when you're creating a class for your network. The name of the class itself can be anything.\n",
    "\n",
    "```python\n",
    "self.hidden = nn.Linear(784, 256)\n",
    "```\n",
    "\n",
    "This line creates a module for a linear transformation, $x\\mathbf{W} + b$, with 784 inputs and 256 outputs and assigns it to `self.hidden`. The module automatically creates the weight and bias tensors which we'll use in the `forward` method. You can access the weight and bias tensors once the network (`net`) is created with `net.hidden.weight` and `net.hidden.bias`.\n",
    "\n",
    "```python\n",
    "self.output = nn.Linear(256, 10)\n",
    "```\n",
    "\n",
    "Similarly, this creates another linear transformation with 256 inputs and 10 outputs.\n",
    "\n",
    "```python\n",
    "self.sigmoid = nn.Sigmoid()\n",
    "self.softmax = nn.Softmax(dim=1)\n",
    "```\n",
    "\n",
    "Here I defined operations for the sigmoid activation and softmax output. Setting `dim=1` in `nn.Softmax(dim=1)` calculates softmax across the columns.\n",
    "\n",
    "```python\n",
    "def forward(self, x):\n",
    "```\n",
    "\n",
    "PyTorch networks created with `nn.Module` must have a `forward` method defined. It takes in a tensor `x` and passes it through the operations you defined in the `__init__` method.\n",
    "\n",
    "```python\n",
    "x = self.hidden(x)\n",
    "x = self.sigmoid(x)\n",
    "x = self.output(x)\n",
    "x = self.softmax(x)\n",
    "```\n",
    "\n",
    "Here the input tensor `x` is passed through each operation and reassigned to `x`. We can see that the input tensor goes through the hidden layer, then a sigmoid function, then the output layer, and finally the softmax function. It doesn't matter what you name the variables here, as long as the inputs and outputs of the operations match the network architecture you want to build. The order in which you define things in the `__init__` method doesn't matter, but you'll need to sequence the operations correctly in the `forward` method.\n",
    "\n",
    "Now we can create a `Network` object."
   ]
  },
  {
   "cell_type": "code",
   "execution_count": 16,
   "metadata": {
    "tags": []
   },
   "outputs": [
    {
     "data": {
      "text/plain": [
       "Network(\n",
       "  (hidden): Linear(in_features=784, out_features=256, bias=True)\n",
       "  (output): Linear(in_features=256, out_features=10, bias=True)\n",
       "  (sigmoid): Sigmoid()\n",
       "  (softmax): Softmax(dim=1)\n",
       ")"
      ]
     },
     "execution_count": 16,
     "metadata": {},
     "output_type": "execute_result"
    }
   ],
   "source": [
    "# Create the network and look at it's text representation\n",
    "model = Network()\n",
    "model"
   ]
  },
  {
   "cell_type": "markdown",
   "metadata": {},
   "source": [
    "You can define the network somewhat more concisely and clearly using the `torch.nn.functional` module. This is the most common way you'll see networks defined as many operations are simple element-wise functions. We normally import this module as `F`, `import torch.nn.functional as F`."
   ]
  },
  {
   "cell_type": "code",
   "execution_count": 17,
   "metadata": {},
   "outputs": [],
   "source": [
    "import torch.nn.functional as F\n",
    "\n",
    "class Network(nn.Module):\n",
    "    def __init__(self):\n",
    "        super().__init__()\n",
    "        # Inputs to hidden layer linear transformation\n",
    "        self.hidden = nn.Linear(784, 256)\n",
    "        # Output layer, 10 units - one for each digit\n",
    "        self.output = nn.Linear(256, 10)\n",
    "        \n",
    "    def forward(self, x):\n",
    "        # Hidden layer with sigmoid activation\n",
    "        x = F.sigmoid(self.hidden(x))\n",
    "        # Output layer with softmax activation\n",
    "        x = F.softmax(self.output(x), dim=1)\n",
    "        \n",
    "        return x"
   ]
  },
  {
   "cell_type": "code",
   "execution_count": null,
   "metadata": {},
   "outputs": [],
   "source": []
  },
  {
   "cell_type": "markdown",
   "metadata": {},
   "source": [
    "### Activation functions\n",
    "\n",
    "So far we've only been looking at the sigmoid activation function, but in general any function can be used as an activation function. The only requirement is that for a network to approximate a non-linear function, the activation functions must be non-linear. Here are a few more examples of common activation functions: Tanh (hyperbolic tangent), and ReLU (rectified linear unit).\n",
    "\n",
    "<img src=\"../data/assets/activation.png\" width=700px>\n",
    "\n",
    "In practice, the ReLU function is used almost exclusively as the activation function for hidden layers."
   ]
  },
  {
   "cell_type": "markdown",
   "metadata": {
    "jp-MarkdownHeadingCollapsed": true,
    "tags": []
   },
   "source": [
    "### Your Turn to Build a Network\n",
    "\n",
    "<img src=\"../data/assets/mlp_mnist.png\" width=600px>\n"
   ]
  },
  {
   "cell_type": "markdown",
   "metadata": {},
   "source": [
    "***\n",
    "### Exercise:\n",
    "Create a network with 784 input units, a hidden layer with 128 units and a ReLU activation, then a hidden layer with 64 units and a ReLU activation, and finally an output layer with a softmax activation as shown above. You can use a ReLU activation with the `nn.ReLU` module or `F.relu` function.\n",
    "\n",
    "It's good practice to name your layers by their type of network, for instance 'fc' to represent a fully-connected layer. As you code your solution, use `fc1`, `fc2`, and `fc3` as your layer names."
   ]
  },
  {
   "cell_type": "code",
   "execution_count": 18,
   "metadata": {
    "scrolled": true,
    "tags": []
   },
   "outputs": [],
   "source": [
    "## Task 4:\n",
    "## Your code here \n",
    "class Network(nn.Module):\n",
    "    def __init__(self):\n",
    "        super().__init__()\n",
    "        \n",
    "        # Inputs to hidden layer linear transformation\n",
    "        self.fc1 = nn.Linear(784, 128)\n",
    "        self.fc2 = nn.Linear(128, 64)\n",
    "        self.fc3 = nn.Linear(64,10)\n",
    "        \n",
    "    def forward(self, x):\n",
    "        # Hidden layer with sigmoid activation\n",
    "        x = F.relu(self.fc1(x))\n",
    "        x = F.relu(self.fc2(x))\n",
    "        x = F.softmax(self.fc3(x),dim=1)\n",
    "        return x"
   ]
  },
  {
   "cell_type": "code",
   "execution_count": 19,
   "metadata": {
    "tags": []
   },
   "outputs": [
    {
     "data": {
      "text/plain": [
       "Network(\n",
       "  (fc1): Linear(in_features=784, out_features=128, bias=True)\n",
       "  (fc2): Linear(in_features=128, out_features=64, bias=True)\n",
       "  (fc3): Linear(in_features=64, out_features=10, bias=True)\n",
       ")"
      ]
     },
     "execution_count": 19,
     "metadata": {},
     "output_type": "execute_result"
    }
   ],
   "source": [
    "# Let's create an instance from your fabulous network\n",
    "model = Network()\n",
    "model"
   ]
  },
  {
   "cell_type": "markdown",
   "metadata": {},
   "source": [
    "### Initializing weights and biases\n",
    "\n",
    "The weights and such are automatically initialized for you, but it's possible to customize how they are initialized. The weights and biases are tensors attached to the layer you defined, you can get them with `model.fc1.weight` for instance."
   ]
  },
  {
   "cell_type": "code",
   "execution_count": 20,
   "metadata": {
    "tags": []
   },
   "outputs": [
    {
     "name": "stdout",
     "output_type": "stream",
     "text": [
      "Parameter containing:\n",
      "tensor([[-0.0023,  0.0184, -0.0013,  ...,  0.0286, -0.0172, -0.0264],\n",
      "        [-0.0275,  0.0281, -0.0118,  ...,  0.0182, -0.0240,  0.0318],\n",
      "        [ 0.0098,  0.0357,  0.0086,  ..., -0.0238,  0.0085, -0.0069],\n",
      "        ...,\n",
      "        [ 0.0296, -0.0246,  0.0162,  ..., -0.0144,  0.0142,  0.0200],\n",
      "        [-0.0266, -0.0252, -0.0217,  ..., -0.0042,  0.0281,  0.0327],\n",
      "        [-0.0135, -0.0078, -0.0178,  ..., -0.0030, -0.0320,  0.0242]],\n",
      "       requires_grad=True)\n",
      "Parameter containing:\n",
      "tensor([-1.1491e-02, -8.2677e-03, -9.7490e-03,  1.6111e-02, -1.0197e-02,\n",
      "         5.3101e-03, -5.7885e-03, -3.5206e-02, -3.2640e-02,  2.8135e-03,\n",
      "        -6.4213e-03, -3.3557e-02,  1.9492e-02,  3.2631e-02, -2.6981e-02,\n",
      "         1.2555e-02, -3.6245e-03, -3.1295e-02, -2.5867e-02, -2.8976e-02,\n",
      "        -6.0886e-03, -1.1327e-02, -2.2688e-02,  7.2013e-03, -3.0167e-02,\n",
      "        -2.9190e-02, -3.3456e-02, -2.1374e-02,  3.3373e-02, -3.4336e-02,\n",
      "         8.1016e-03,  4.1793e-03, -1.3195e-02, -1.1218e-02,  3.2340e-02,\n",
      "        -6.7143e-03, -1.8195e-02,  3.4743e-02,  8.0635e-03, -1.8362e-02,\n",
      "         8.9251e-03,  2.5999e-02,  2.9410e-02,  1.8500e-02,  1.2720e-03,\n",
      "        -2.8240e-02,  2.6354e-02, -4.4644e-03,  1.3654e-02,  2.8679e-02,\n",
      "         2.5094e-02,  2.3195e-02,  3.8667e-04,  2.3661e-02,  2.9600e-02,\n",
      "         3.2281e-02, -3.0186e-02, -2.9066e-02,  2.0065e-02,  1.4216e-02,\n",
      "         3.3174e-03, -3.4966e-03, -2.6104e-02, -1.8345e-02,  1.4487e-02,\n",
      "        -2.9328e-02,  1.3598e-02,  1.3438e-02, -3.2050e-02, -1.5235e-02,\n",
      "         1.3445e-02, -2.4500e-02,  3.4061e-02,  2.8032e-02,  1.9596e-02,\n",
      "         3.5241e-02,  5.4929e-03,  2.5496e-02, -1.1959e-02, -2.3861e-02,\n",
      "         2.7359e-02,  1.4447e-02,  3.4277e-02,  2.6722e-02, -3.1056e-03,\n",
      "         3.0759e-02, -1.3006e-02, -3.1726e-02,  1.6653e-02,  7.7584e-03,\n",
      "         3.0159e-02,  2.0720e-02, -3.4501e-02,  1.8441e-02,  1.3869e-02,\n",
      "        -1.4719e-02, -3.1081e-02,  6.8195e-03,  1.3397e-02,  2.2209e-02,\n",
      "        -5.8702e-03, -2.5699e-02,  8.0247e-03, -6.8536e-03,  6.3330e-03,\n",
      "         2.8619e-02,  3.4643e-03,  1.1432e-02, -2.9657e-02,  2.3676e-02,\n",
      "         1.0991e-02,  4.2707e-05,  2.3157e-02,  3.5146e-02, -2.7978e-02,\n",
      "        -7.5513e-03,  2.7473e-02,  1.0556e-04,  9.1442e-03, -1.0833e-02,\n",
      "        -3.3744e-02,  6.9346e-03, -3.4033e-02, -1.8057e-02, -2.0018e-02,\n",
      "         8.9691e-03, -2.6476e-02,  2.2107e-02], requires_grad=True)\n"
     ]
    }
   ],
   "source": [
    "print(model.fc1.weight)\n",
    "print(model.fc1.bias)"
   ]
  },
  {
   "cell_type": "markdown",
   "metadata": {},
   "source": [
    "For custom initialization, we want to modify these tensors in place. These are actually autograd *Variables*, so we need to get back the actual tensors with `model.fc1.weight.data`. Once we have the tensors, we can fill them with zeros (for biases) or random normal values."
   ]
  },
  {
   "cell_type": "code",
   "execution_count": 21,
   "metadata": {
    "tags": []
   },
   "outputs": [
    {
     "data": {
      "text/plain": [
       "tensor([0., 0., 0., 0., 0., 0., 0., 0., 0., 0., 0., 0., 0., 0., 0., 0., 0., 0., 0., 0., 0., 0., 0., 0.,\n",
       "        0., 0., 0., 0., 0., 0., 0., 0., 0., 0., 0., 0., 0., 0., 0., 0., 0., 0., 0., 0., 0., 0., 0., 0.,\n",
       "        0., 0., 0., 0., 0., 0., 0., 0., 0., 0., 0., 0., 0., 0., 0., 0., 0., 0., 0., 0., 0., 0., 0., 0.,\n",
       "        0., 0., 0., 0., 0., 0., 0., 0., 0., 0., 0., 0., 0., 0., 0., 0., 0., 0., 0., 0., 0., 0., 0., 0.,\n",
       "        0., 0., 0., 0., 0., 0., 0., 0., 0., 0., 0., 0., 0., 0., 0., 0., 0., 0., 0., 0., 0., 0., 0., 0.,\n",
       "        0., 0., 0., 0., 0., 0., 0., 0.])"
      ]
     },
     "execution_count": 21,
     "metadata": {},
     "output_type": "execute_result"
    }
   ],
   "source": [
    "# Set biases to all zeros\n",
    "model.fc1.bias.data.fill_(0)"
   ]
  },
  {
   "cell_type": "code",
   "execution_count": 22,
   "metadata": {
    "tags": []
   },
   "outputs": [
    {
     "data": {
      "text/plain": [
       "tensor([[ 1.1628e-02,  3.7760e-03,  6.2719e-03,  ..., -8.2464e-03,\n",
       "          8.1180e-03,  2.9920e-03],\n",
       "        [-1.5062e-02, -3.5636e-03,  1.3513e-02,  ...,  8.7102e-03,\n",
       "          4.6261e-03, -1.6118e-02],\n",
       "        [ 4.0053e-03,  8.4797e-03,  4.6544e-03,  ..., -1.7983e-02,\n",
       "         -1.1845e-02,  2.1100e-03],\n",
       "        ...,\n",
       "        [-7.7044e-03,  8.1746e-05,  7.3775e-03,  ..., -8.7635e-03,\n",
       "         -2.5432e-03, -4.9199e-03],\n",
       "        [-1.3885e-02,  5.7931e-03, -9.9594e-03,  ..., -6.8600e-03,\n",
       "         -1.5598e-02,  2.7059e-03],\n",
       "        [ 9.9201e-03, -4.3243e-03, -2.1560e-02,  ..., -5.6935e-03,\n",
       "         -1.3495e-02,  8.5902e-04]])"
      ]
     },
     "execution_count": 22,
     "metadata": {},
     "output_type": "execute_result"
    }
   ],
   "source": [
    "# sample from random normal with standard dev = 0.01\n",
    "model.fc1.weight.data.normal_(std=0.01)"
   ]
  },
  {
   "cell_type": "markdown",
   "metadata": {},
   "source": [
    "### Forward pass\n",
    "\n",
    "Now that we have a network, let's see what happens when we pass in an image."
   ]
  },
  {
   "cell_type": "code",
   "execution_count": 23,
   "metadata": {
    "tags": []
   },
   "outputs": [
    {
     "data": {
      "image/png": "[encoded data removed]",
      "text/plain": [
       "<Figure size 600x900 with 2 Axes>"
      ]
     },
     "metadata": {
      "image/png": {
       "height": 327,
       "width": 589
      }
     },
     "output_type": "display_data"
    }
   ],
   "source": [
    "# Grab some data \n",
    "dataiter = iter(trainloader)\n",
    "images, labels = next(dataiter)\n",
    "\n",
    "# Resize images into a 1D vector, new shape is (batch size, color channels, image pixels) \n",
    "images.resize_(64, 1, 784)\n",
    "# or images.resize_(images.shape[0], 1, 784) to automatically get batch size\n",
    "\n",
    "# Forward pass through the network\n",
    "img_idx = 0\n",
    "ps = model.forward(images[img_idx,:])\n",
    "\n",
    "img = images[img_idx]\n",
    "helper.view_classify(img.view(1, 28, 28), ps)"
   ]
  },
  {
   "cell_type": "markdown",
   "metadata": {},
   "source": [
    "As you can see above, our network has basically no idea what this digit is. It's because we haven't trained it yet, all the weights are random!\n",
    "\n",
    "### Using `nn.Sequential`\n",
    "\n",
    "PyTorch provides a convenient way to build networks like this where a tensor is passed sequentially through operations, `nn.Sequential` ([documentation](https://pytorch.org/docs/master/nn.html#torch.nn.Sequential)). Using this to build the equivalent network:"
   ]
  },
  {
   "cell_type": "code",
   "execution_count": 24,
   "metadata": {
    "tags": []
   },
   "outputs": [
    {
     "name": "stdout",
     "output_type": "stream",
     "text": [
      "Sequential(\n",
      "  (0): Linear(in_features=784, out_features=16, bias=True)\n",
      "  (1): ReLU()\n",
      "  (2): Linear(in_features=16, out_features=32, bias=True)\n",
      "  (3): ReLU()\n",
      "  (4): Linear(in_features=32, out_features=10, bias=True)\n",
      "  (5): Softmax(dim=1)\n",
      ")\n"
     ]
    },
    {
     "data": {
      "image/png": "[encoded data removed]",
      "text/plain": [
       "<Figure size 600x900 with 2 Axes>"
      ]
     },
     "metadata": {
      "image/png": {
       "height": 327,
       "width": 589
      }
     },
     "output_type": "display_data"
    }
   ],
   "source": [
    "# Build a feed-forward network\n",
    "sequential_model = nn.Sequential(nn.Linear(784, 16),\n",
    "                      nn.ReLU(),\n",
    "                      nn.Linear(16, 32),\n",
    "                      nn.ReLU(),\n",
    "                      nn.Linear(32, 10),\n",
    "                      nn.Softmax(dim=1))\n",
    "print(sequential_model)\n",
    "\n",
    "# Forward pass through the network and display output\n",
    "images, labels = next(iter(trainloader))\n",
    "images.resize_(images.shape[0], 1, 784)\n",
    "ps = sequential_model.forward(images[0,:])\n",
    "helper.view_classify(images[0].view(1, 28, 28), ps)"
   ]
  },
  {
   "cell_type": "markdown",
   "metadata": {},
   "source": [
    "Here our model is the same as before: 784 input units, a hidden layer with 128 units, ReLU activation, 64 unit hidden layer, another ReLU, then the output layer with 10 units, and the softmax output.\n",
    "\n",
    "The operations are available by passing in the appropriate index. For example, if you want to get first Linear operation and look at the weights, you'd use `model[0]`."
   ]
  },
  {
   "cell_type": "code",
   "execution_count": 25,
   "metadata": {
    "tags": []
   },
   "outputs": [
    {
     "name": "stdout",
     "output_type": "stream",
     "text": [
      "Linear(in_features=784, out_features=16, bias=True)\n"
     ]
    },
    {
     "data": {
      "text/plain": [
       "Parameter containing:\n",
       "tensor([[-0.0254,  0.0338,  0.0105,  ...,  0.0013,  0.0298,  0.0273],\n",
       "        [ 0.0138, -0.0088,  0.0176,  ...,  0.0098, -0.0276, -0.0168],\n",
       "        [ 0.0213, -0.0301,  0.0227,  ...,  0.0289, -0.0258,  0.0329],\n",
       "        ...,\n",
       "        [-0.0306, -0.0264, -0.0062,  ..., -0.0134, -0.0084,  0.0157],\n",
       "        [ 0.0030,  0.0311, -0.0343,  ..., -0.0185,  0.0057,  0.0353],\n",
       "        [ 0.0174, -0.0141,  0.0309,  ..., -0.0203, -0.0291, -0.0111]],\n",
       "       requires_grad=True)"
      ]
     },
     "execution_count": 25,
     "metadata": {},
     "output_type": "execute_result"
    }
   ],
   "source": [
    "print(sequential_model[0])\n",
    "sequential_model[0].weight"
   ]
  },
  {
   "cell_type": "markdown",
   "metadata": {},
   "source": [
    "You can also pass in an `OrderedDict` to name the individual layers and operations, instead of using incremental integers. Note that dictionary keys must be unique, so _each operation must have a different name_."
   ]
  },
  {
   "cell_type": "code",
   "execution_count": 26,
   "metadata": {
    "tags": []
   },
   "outputs": [
    {
     "data": {
      "text/plain": [
       "Sequential(\n",
       "  (fc_1): Linear(in_features=784, out_features=16, bias=True)\n",
       "  (relu_1): ReLU()\n",
       "  (fc_2): Linear(in_features=16, out_features=32, bias=True)\n",
       "  (relu_2): ReLU()\n",
       "  (output_layer): Linear(in_features=32, out_features=10, bias=True)\n",
       "  (softmax): Softmax(dim=1)\n",
       ")"
      ]
     },
     "execution_count": 26,
     "metadata": {},
     "output_type": "execute_result"
    }
   ],
   "source": [
    "from collections import OrderedDict\n",
    "sequential_model = nn.Sequential(OrderedDict([\n",
    "                      ('fc_1', nn.Linear(784, 16)),\n",
    "                      ('relu_1', nn.ReLU()),\n",
    "                      ('fc_2', nn.Linear(16, 32)),\n",
    "                      ('relu_2', nn.ReLU()),\n",
    "                      ('output_layer', nn.Linear(32, 10)),\n",
    "                      ('softmax', nn.Softmax(dim=1))]))\n",
    "sequential_model"
   ]
  },
  {
   "cell_type": "markdown",
   "metadata": {},
   "source": [
    "Now you can access layers either by integer or the name"
   ]
  },
  {
   "cell_type": "code",
   "execution_count": 27,
   "metadata": {
    "tags": []
   },
   "outputs": [
    {
     "name": "stdout",
     "output_type": "stream",
     "text": [
      "Linear(in_features=784, out_features=16, bias=True)\n",
      "Linear(in_features=784, out_features=16, bias=True)\n"
     ]
    }
   ],
   "source": [
    "print(sequential_model[0])\n",
    "print(sequential_model.fc_1)"
   ]
  },
  {
   "cell_type": "markdown",
   "metadata": {},
   "source": [
    "In the next notebook, we'll see how we can train a neural network to accuractly predict the numbers appearing in the MNIST images."
   ]
  },
  {
   "cell_type": "markdown",
   "metadata": {},
   "source": [
    "***\n",
    "### Exercise:\n",
    "Create same network as in previous exercise (784 input units, a hidden layer with 128 units and a ReLU activation, then a hidden layer with 64 units and a ReLU activation, and finally an output layer with a softmax activation). \n",
    "\n",
    "Use [`fc1`, `relu1`, `fc2`, `relu2`, `fc3`, `softmax`] as your layer names."
   ]
  },
  {
   "cell_type": "code",
   "execution_count": 28,
   "metadata": {
    "tags": []
   },
   "outputs": [
    {
     "data": {
      "text/plain": [
       "Sequential(\n",
       "  (fc1): Linear(in_features=784, out_features=128, bias=True)\n",
       "  (relu1): ReLU()\n",
       "  (fc2): Linear(in_features=128, out_features=64, bias=True)\n",
       "  (relu2): ReLU()\n",
       "  (fc3): Linear(in_features=64, out_features=10, bias=True)\n",
       "  (softmax): Softmax(dim=1)\n",
       ")"
      ]
     },
     "execution_count": 28,
     "metadata": {},
     "output_type": "execute_result"
    }
   ],
   "source": [
    "## Task 5:\n",
    "## Your code here \n",
    "from collections import OrderedDict\n",
    "sequential_model = nn.Sequential(OrderedDict([\n",
    "                      ('fc1', nn.Linear(784, 128)),\n",
    "                      ('relu1', nn.ReLU()),\n",
    "                      ('fc2', nn.Linear(128, 64)),\n",
    "                      ('relu2', nn.ReLU()),\n",
    "                      ('fc3', nn.Linear(64, 10)),\n",
    "                      ('softmax', nn.Softmax(dim=1))]))\n",
    "sequential_model"
   ]
  },
  {
   "cell_type": "markdown",
   "metadata": {},
   "source": [
    "### And that is how you create a neural network! :)"
   ]
  },
  {
   "cell_type": "markdown",
   "metadata": {},
   "source": [
    "## Reflection\n",
    "\n",
    "Answer briefly following questions (in English or Finnish):\n",
    "- What is loss function?\n",
    "- What is ReLU?\n",
    "- What is batch size?\n",
    "- When you should use softmax?"
   ]
  },
  {
   "cell_type": "markdown",
   "metadata": {},
   "source": [
    "## What is loss function?\n",
    "Kutsutaan myös joskus error funktioksi. Koneoppimisessa 'error' tunnetaan myös 'lossina'.\n",
    "\n",
    "Yksinkertaisuudessaan kertoo kuinka hyvin tai huonosti malli suoriutuu, mitä suurempi arvo sitä huonommin malli suoriutuu, tämä auttaa myös parametrien säätämisessä.\n",
    "\n",
    "Erilaisille ongelmille on olemassa eri loss funktioita, tässä muutama:\n",
    "\n",
    "Mean squared error:\n",
    "$$MSE = {1 \\over N} \\sum_{i=1}^N(y^{(i)} - \\hat{y}^{(i)})^2$$ \n",
    "- Käytetään regressio-ongelmissa.\n",
    "- Arvo esittää hajontaa ennusteiden ja todellisten arvojen välillä\n",
    "- On herkkä outliereille, joten suuri arvo voi kertoa myös suuresta määrästä outliereja\n",
    "\n",
    "Likelihood loss:\n",
    "- Luokittelu ongelmissa\n",
    "- Kertoo kuinka hyvin mallin parametrit sopivat havantoihin.\n",
    "- Voi käyttää parametrien arvioimiseen, mitkä parametrit sopivat malliin.\n",
    "\n",
    "Cross entropy loss:\n",
    "- Luokittelu ongelmissa\n",
    "- Mittaa mallin ennustaman todennäköisyysjakauman ja todellisen luokkajakauman.\n",
    "- Herkkä luokitteluvirheille.\n",
    "- Moniluokittelu ongelmissa.\n",
    "\n",
    "https://www.datarobot.com/blog/introduction-to-loss-functions/\n",
    "\n",
    "https://www.statisticshowto.com/likelihood-function-definition/\n",
    "___\n",
    "## What is ReLU\n",
    "$$f(x) = max(0,x) = {x + |x| \\over 2} = \\begin{cases} x & \\text{if } x > 0, \\\\ 0 & \\text{otherwise}. \\end{cases} \n",
    " $$\n",
    "*rectified linear activation function*\n",
    "\n",
    "Suosittu ja eniten käytetty aktivointi funktio neuroverkoissa, johtaa usein parhaaseen lopputulokseen. Mutta tässä on myös onglemia kun syötteessä on negatiivisia lukuja sillä funktio antaa tulokseksi nolla, eikä nämä neuronit enään osallistu oppimiseen, sillä ReLU tiivistettynä on:\n",
    "\n",
    "- Yksinkertainen ei lineaarinen funktio, joka antaa inputin suoraan jos se on positiivinen, muuten 0.\n",
    "\n",
    "https://machinelearningmastery.com/rectified-linear-activation-function-for-deep-learning-neural-networks/\n",
    "___\n",
    "\n",
    "## What is batch size?\n",
    "\n",
    "Tämän voisi tiivistää näin: \"Datan määrä joka kerralla syötetään koneeseen\".\n",
    "\n",
    "Batch sizellä on tärkeä rooli syväoppimisessa, sillä se vaikuttaa myös tarkkuuteen, kuin aikaan joka menee mallin kouluttamisessa. Suurempi batch size, voi johtaa nopeampaan kouluttamiseen, mutta tarkkuus voi kärsiä, sekä overfitting voi tulla onglemaksi. Samalla pienemmät batch sizet voivat tuottaa parempia tuloksia, mutta näissä menee aikaa kouluttamiseen.\n",
    "\n",
    "Varmaan voisi olla jokseenki järkevää koittaa aluksi optimoida parametrejä suuremmalla batchsizellä, kunnes säätää batch sizen tarkkuuden kannalta hyväksi ja jättää koneen kouluttamaan mallia. Siltikään, ei ole olemassa mitään standardia batch sizelle, joka soveltuisi kaikkiin ongelmiin ja datasetteihin, varmoilla hyvillä tuloksilla, vaan on sanoisiko malli kohtainen.\n",
    "\n",
    "Batch sizen valinnassa on hyvä ottaa huomioon:\n",
    "- datasetin koko\n",
    "- Ongelman monimutkaisuus\n",
    "\n",
    "https://www.sabrepc.com/blog/Deep-Learning-and-AI/Epochs-Batch-Size-Iterations\n",
    "____\n",
    "## When you should use softmax?\n",
    "\n",
    "Kun halutaan nähdä todennäköisyysjakauma. Esimerkiksi kuten tässä tehtävässä, nähtiin todennäköisyydet sille, mikä numero on kyseessä. Taikka käyttää todennäköisyyksiä hyödyksi, useasti tätä käytetään moniluokkaisten luokittelu ongelmissa viimeisessä kerroksessa. Softmax normalisoi syötteet niin, että summa on 1.\n",
    "\n",
    "Mutta softmax olettaa, että jokainen asia datasetissä kuuluu tasan yhteen luokkaan, joten jos asiat kuuluvat useampaan eri luokkaan softmax ei toimi halutulla tavalla.\n",
    "\n",
    "https://developers.google.com/machine-learning/crash-course/multi-class-neural-networks/softmax\n",
    "___"
   ]
  },
  {
   "cell_type": "markdown",
   "metadata": {},
   "source": [
    "### Check your answers by running following cell:"
   ]
  },
  {
   "cell_type": "code",
   "execution_count": 29,
   "metadata": {
    "tags": []
   },
   "outputs": [
    {
     "name": "stdout",
     "output_type": "stream",
     "text": [
      "Results:\n",
      "torch.Size([64, 10])\n",
      "Network(\n",
      "  (fc1): Linear(in_features=784, out_features=128, bias=True)\n",
      "  (fc2): Linear(in_features=128, out_features=64, bias=True)\n",
      "  (fc3): Linear(in_features=64, out_features=10, bias=True)\n",
      ")\n",
      "Sequential(\n",
      "  (fc1): Linear(in_features=784, out_features=128, bias=True)\n",
      "  (relu1): ReLU()\n",
      "  (fc2): Linear(in_features=128, out_features=64, bias=True)\n",
      "  (relu2): ReLU()\n",
      "  (fc3): Linear(in_features=64, out_features=10, bias=True)\n",
      "  (softmax): Softmax(dim=1)\n",
      ")\n",
      "Correct answers 5 / 5.\n"
     ]
    }
   ],
   "source": [
    "# Do not change this code!\n",
    "\n",
    "import sys\n",
    "sys.path.insert(0, '../answers/part2/')\n",
    "from part2_check import *\n",
    "\n",
    "\n",
    "print(\"Results:\")\n",
    "\n",
    "correct1 = part2_shape_check(output1.shape)\n",
    "correct2 = softmax_func_check(softmax_func)\n",
    "correct3 = error_func_check(error_func)\n",
    "correct4 = part2_model_check(model)\n",
    "correct5 = part2_sequential_model_check(sequential_model)\n",
    "\n",
    "\n",
    "print(\"Correct answers\", correct1 + correct2 + correct3 + correct4 + correct5,  \"/ 5.\")\n",
    "\n"
   ]
  },
  {
   "cell_type": "markdown",
   "metadata": {},
   "source": [
    "### Nice work! "
   ]
  },
  {
   "cell_type": "code",
   "execution_count": null,
   "metadata": {},
   "outputs": [],
   "source": []
  }
 ],
 "metadata": {
  "kernelspec": {
   "display_name": "Python 3 (ipykernel)",
   "language": "python",
   "name": "python3"
  },
  "language_info": {
   "codemirror_mode": {
    "name": "ipython",
    "version": 3
   },
   "file_extension": ".py",
   "mimetype": "text/x-python",
   "name": "python",
   "nbconvert_exporter": "python",
   "pygments_lexer": "ipython3",
   "version": "3.11.6"
  }
 },
 "nbformat": 4,
 "nbformat_minor": 4
}
