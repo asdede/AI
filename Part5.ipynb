{
 "cells": [
  {
   "cell_type": "markdown",
   "metadata": {},
   "source": [
    "# Inference and Validation\n",
    "\n",
    "Now that you have a trained network, you can use it for making predictions. This is typically called **inference**, a term borrowed from statistics. However, neural networks have a tendency to perform *too well* on the training data and aren't able to generalize to data that hasn't been seen before. This is called **overfitting** and it impairs inference performance. To test for overfitting while training, we measure the performance on data not in the training set called the **validation** set. We avoid overfitting through regularization such as dropout while monitoring the validation performance during training. In this notebook, I'll show you how to do this in PyTorch. \n",
    "\n",
    "As usual, let's start by loading the dataset through torchvision. You'll learn more about torchvision and loading data in a later part. This time we'll be taking advantage of the test set which you can get by setting `train=False` here:\n",
    "\n",
    "```python\n",
    "testset = datasets.FashionMNIST('~/.pytorch/F_MNIST_data/', download=True, train=False, transform=transform)\n",
    "```\n",
    "\n",
    "The test set contains images just like the training set. Typically you'll see 10-20% of the original dataset held out for testing and validation with the rest being used for training."
   ]
  },
  {
   "cell_type": "code",
   "execution_count": 2,
   "metadata": {
    "tags": []
   },
   "outputs": [],
   "source": [
    "import torch\n",
    "from torchvision import datasets, transforms\n",
    "\n",
    "# Define a transform to normalize the data\n",
    "transform = transforms.Compose([transforms.ToTensor(),\n",
    "                                transforms.Normalize((0.5,), (0.5,))])\n",
    "# Download and load the training data\n",
    "trainset = datasets.FashionMNIST('~/.pytorch/F_MNIST_data/', download=True, train=True, transform=transform)\n",
    "trainloader = torch.utils.data.DataLoader(trainset, batch_size=64, shuffle=True)\n",
    "\n",
    "# Download and load the test data\n",
    "testset = datasets.FashionMNIST('~/.pytorch/F_MNIST_data/', download=True, train=False, transform=transform)\n",
    "testloader = torch.utils.data.DataLoader(testset, batch_size=64, shuffle=True)"
   ]
  },
  {
   "cell_type": "markdown",
   "metadata": {},
   "source": [
    "Here I'll create a model like normal, using the same one from my solution for part 4."
   ]
  },
  {
   "cell_type": "code",
   "execution_count": 3,
   "metadata": {
    "tags": []
   },
   "outputs": [],
   "source": [
    "from torch import nn, optim\n",
    "import torch.nn.functional as F\n",
    "\n",
    "class Classifier(nn.Module):\n",
    "    def __init__(self):\n",
    "        super().__init__()\n",
    "        self.fc1 = nn.Linear(784, 256)\n",
    "        self.fc2 = nn.Linear(256, 128)\n",
    "        self.fc3 = nn.Linear(128, 64)\n",
    "        self.fc4 = nn.Linear(64, 10)\n",
    "        \n",
    "    def forward(self, x):\n",
    "        # make sure input tensor is flattened\n",
    "        #print(x.shape)\n",
    "        x = x.view(x.shape[0], -1)\n",
    "        #print(x.shape)\n",
    "        \n",
    "        x = F.relu(self.fc1(x))\n",
    "        x = F.relu(self.fc2(x))\n",
    "        x = F.relu(self.fc3(x))\n",
    "        x = F.log_softmax(self.fc4(x), dim=1)\n",
    "        \n",
    "        return x"
   ]
  },
  {
   "cell_type": "markdown",
   "metadata": {},
   "source": [
    "The goal of validation is to measure the model's performance on data that isn't part of the training set. Performance here is up to the developer to define though. Typically this is just accuracy, the percentage of classes the network predicted correctly. Other options are [precision and recall](https://en.wikipedia.org/wiki/Precision_and_recall#Definition_(classification_context)) and top-5 error rate. We'll focus on accuracy here. First I'll do a forward pass with one batch from the test set."
   ]
  },
  {
   "cell_type": "code",
   "execution_count": 4,
   "metadata": {
    "tags": []
   },
   "outputs": [
    {
     "name": "stdout",
     "output_type": "stream",
     "text": [
      "torch.Size([64, 10])\n"
     ]
    }
   ],
   "source": [
    "model = Classifier()\n",
    "\n",
    "images, labels = next(iter(testloader))\n",
    "# Get the class probabilities\n",
    "ps = torch.exp(model(images))\n",
    "# Make sure the shape is appropriate, we should get 10 class probabilities for 64 examples\n",
    "print(ps.shape)"
   ]
  },
  {
   "cell_type": "markdown",
   "metadata": {},
   "source": [
    "With the probabilities, we can get the most likely class using the `ps.topk` method. This returns the $k$ highest values. Since we just want the most likely class, we can use `ps.topk(1)`. This returns a tuple of the top-$k$ values and the top-$k$ indices. If the highest value is the fifth element, we'll get back 4 as the index."
   ]
  },
  {
   "cell_type": "code",
   "execution_count": 5,
   "metadata": {
    "tags": []
   },
   "outputs": [
    {
     "name": "stdout",
     "output_type": "stream",
     "text": [
      "tensor([[1],\n",
      "        [6],\n",
      "        [5],\n",
      "        [0],\n",
      "        [0],\n",
      "        [1],\n",
      "        [5],\n",
      "        [0],\n",
      "        [1],\n",
      "        [0]])\n",
      "Correct labels: tensor([8, 7, 1, 5, 5, 1, 0, 2, 6, 4])\n"
     ]
    }
   ],
   "source": [
    "top_p, top_class = ps.topk(1, dim=1)\n",
    "# Look at the most likely classes for the first 10 examples\n",
    "# note. At this point the network is not trained!\n",
    "\n",
    "print(top_class[:10,:])\n",
    "print(\"Correct labels:\", labels[:10])"
   ]
  },
  {
   "cell_type": "markdown",
   "metadata": {},
   "source": [
    "Now we can check if the predicted classes match the labels. This is simple to do by equating `top_class` and `labels`, but we have to be careful of the shapes. Here `top_class` is a 2D tensor with shape `(64, 1)` while `labels` is 1D with shape `(64)`. To get the equality to work out the way we want, `top_class` and `labels` must have the same shape.\n",
    "\n",
    "If we do\n",
    "\n",
    "```python\n",
    "equals = top_class == labels\n",
    "```\n",
    "\n",
    "`equals` will have shape `(64, 64)`, try it yourself. What it's doing is comparing the one element in each row of `top_class` with each element in `labels` which returns 64 True/False boolean values for each row."
   ]
  },
  {
   "cell_type": "code",
   "execution_count": 6,
   "metadata": {
    "tags": []
   },
   "outputs": [],
   "source": [
    "equals = top_class == labels.view(*top_class.shape)"
   ]
  },
  {
   "cell_type": "markdown",
   "metadata": {},
   "source": [
    "Now we need to calculate the percentage of correct predictions. `equals` has binary values, either 0 or 1. This means that if we just sum up all the values and divide by the number of values, we get the percentage of correct predictions. This is the same operation as taking the mean, so we can get the accuracy with a call to `torch.mean`. If only it was that simple. If you try `torch.mean(equals)`, you'll get an error\n",
    "\n",
    "```\n",
    "RuntimeError: mean is not implemented for type torch.ByteTensor\n",
    "```\n",
    "\n",
    "This happens because `equals` has type `torch.ByteTensor` but `torch.mean` isn't implemented for tensors with that type. So we'll need to convert `equals` to a float tensor. Note that when we take `torch.mean` it returns a scalar tensor, to get the actual value as a float we'll need to do `accuracy.item()`."
   ]
  },
  {
   "cell_type": "code",
   "execution_count": 7,
   "metadata": {
    "tags": []
   },
   "outputs": [
    {
     "name": "stdout",
     "output_type": "stream",
     "text": [
      "Accuracy: 4.6875%\n"
     ]
    }
   ],
   "source": [
    "accuracy = torch.mean(equals.type(torch.FloatTensor))\n",
    "print(f'Accuracy: {accuracy.item()*100}%')"
   ]
  },
  {
   "cell_type": "markdown",
   "metadata": {},
   "source": [
    "The network is untrained so it's making random guesses and we should see an accuracy around 10%. Now let's train our network and include our validation pass so we can measure how well the network is performing on the test set. Since we're not updating our parameters in the validation pass, we can speed up our code by turning off gradients using `torch.no_grad()`:\n",
    "\n",
    "```python\n",
    "# turn off gradients\n",
    "with torch.no_grad():\n",
    "    # validation pass here\n",
    "    for images, labels in testloader:\n",
    "        ...\n",
    "```\n"
   ]
  },
  {
   "cell_type": "markdown",
   "metadata": {},
   "source": [
    "***\n",
    "### Exercise: \n",
    "Implement the validation loop below and print out the total accuracy after the loop. You can largely copy and paste the code from above, but I suggest typing it in because writing it out yourself is essential for building the skill. In general you'll always learn more by typing it rather than copy-pasting. You should be able to get an accuracy above 80%.\n",
    "\n",
    "**Hint.** Use this frame for your solution\n",
    "```python\n",
    "\n",
    "train_losses1 = []\n",
    "test_losses1 = []\n",
    "test_accuracy1 = []\n",
    "\n",
    "model1 = Classifier()\n",
    "criterion1 = nn.NLLLoss()\n",
    "optimizer1 = optim.Adam(model1.parameters(), lr=0.003)\n",
    "\n",
    "epochs = 30\n",
    "steps = 0\n",
    "\n",
    "for e in range(epochs):\n",
    "    running_loss = 0\n",
    "    for images, labels in trainloader:\n",
    "        \n",
    "        optimizer.zero_grad()\n",
    "        \n",
    "        log_ps = model1(images)\n",
    "        loss = criterion1(log_ps, labels)\n",
    "        loss.backward()\n",
    "        optimizer1.step()\n",
    "        \n",
    "        running_loss += loss.item()\n",
    "        \n",
    "    else:\n",
    "        ## TODO: Implement the validation pass and print out the validation accuracy\n",
    "```"
   ]
  },
  {
   "cell_type": "code",
   "execution_count": 8,
   "metadata": {
    "tags": []
   },
   "outputs": [
    {
     "name": "stdout",
     "output_type": "stream",
     "text": [
      "Epoch: 1/30..\t Training Loss: 0.507..\t Test Loss: 0.449..\t Test Accuracy: 0.834\n",
      "Epoch: 2/30..\t Training Loss: 0.390..\t Test Loss: 0.398..\t Test Accuracy: 0.856\n",
      "Epoch: 3/30..\t Training Loss: 0.351..\t Test Loss: 0.417..\t Test Accuracy: 0.848\n",
      "Epoch: 4/30..\t Training Loss: 0.330..\t Test Loss: 0.371..\t Test Accuracy: 0.868\n",
      "Epoch: 5/30..\t Training Loss: 0.317..\t Test Loss: 0.360..\t Test Accuracy: 0.873\n",
      "Epoch: 6/30..\t Training Loss: 0.300..\t Test Loss: 0.384..\t Test Accuracy: 0.865\n",
      "Epoch: 7/30..\t Training Loss: 0.296..\t Test Loss: 0.364..\t Test Accuracy: 0.872\n",
      "Epoch: 8/30..\t Training Loss: 0.286..\t Test Loss: 0.369..\t Test Accuracy: 0.870\n",
      "Epoch: 9/30..\t Training Loss: 0.275..\t Test Loss: 0.376..\t Test Accuracy: 0.873\n",
      "Epoch: 10/30..\t Training Loss: 0.264..\t Test Loss: 0.363..\t Test Accuracy: 0.873\n",
      "Epoch: 11/30..\t Training Loss: 0.258..\t Test Loss: 0.364..\t Test Accuracy: 0.876\n",
      "Epoch: 12/30..\t Training Loss: 0.254..\t Test Loss: 0.356..\t Test Accuracy: 0.879\n",
      "Epoch: 13/30..\t Training Loss: 0.250..\t Test Loss: 0.367..\t Test Accuracy: 0.872\n",
      "Epoch: 14/30..\t Training Loss: 0.244..\t Test Loss: 0.378..\t Test Accuracy: 0.875\n",
      "Epoch: 15/30..\t Training Loss: 0.235..\t Test Loss: 0.413..\t Test Accuracy: 0.872\n",
      "Epoch: 16/30..\t Training Loss: 0.233..\t Test Loss: 0.365..\t Test Accuracy: 0.883\n",
      "Epoch: 17/30..\t Training Loss: 0.232..\t Test Loss: 0.367..\t Test Accuracy: 0.883\n",
      "Epoch: 18/30..\t Training Loss: 0.222..\t Test Loss: 0.392..\t Test Accuracy: 0.880\n",
      "Epoch: 19/30..\t Training Loss: 0.215..\t Test Loss: 0.380..\t Test Accuracy: 0.878\n",
      "Epoch: 20/30..\t Training Loss: 0.213..\t Test Loss: 0.387..\t Test Accuracy: 0.881\n",
      "Epoch: 21/30..\t Training Loss: 0.212..\t Test Loss: 0.388..\t Test Accuracy: 0.880\n",
      "Epoch: 22/30..\t Training Loss: 0.203..\t Test Loss: 0.437..\t Test Accuracy: 0.876\n",
      "Epoch: 23/30..\t Training Loss: 0.203..\t Test Loss: 0.383..\t Test Accuracy: 0.883\n",
      "Epoch: 24/30..\t Training Loss: 0.204..\t Test Loss: 0.418..\t Test Accuracy: 0.882\n",
      "Epoch: 25/30..\t Training Loss: 0.196..\t Test Loss: 0.379..\t Test Accuracy: 0.887\n",
      "Epoch: 26/30..\t Training Loss: 0.196..\t Test Loss: 0.391..\t Test Accuracy: 0.884\n",
      "Epoch: 27/30..\t Training Loss: 0.188..\t Test Loss: 0.380..\t Test Accuracy: 0.889\n",
      "Epoch: 28/30..\t Training Loss: 0.186..\t Test Loss: 0.389..\t Test Accuracy: 0.887\n",
      "Epoch: 29/30..\t Training Loss: 0.187..\t Test Loss: 0.392..\t Test Accuracy: 0.881\n",
      "Epoch: 30/30..\t Training Loss: 0.179..\t Test Loss: 0.408..\t Test Accuracy: 0.890\n"
     ]
    }
   ],
   "source": [
    "## Task 1:\n",
    "## Your code here \n",
    "\n",
    "train_losses1 = []\n",
    "test_losses1 = []\n",
    "test_accuracy1 = []\n",
    "\n",
    "model1 = Classifier()\n",
    "criterion1 = nn.NLLLoss()\n",
    "optimizer1 = optim.Adam(model1.parameters(), lr=0.003)\n",
    "\n",
    "epochs = 30\n",
    "steps = 0\n",
    "\n",
    "for e in range(epochs):\n",
    "    running_loss = 0\n",
    "    for images, labels in trainloader:\n",
    "        \n",
    "        optimizer1.zero_grad()\n",
    "        \n",
    "        log_ps = model1(images)\n",
    "        loss = criterion1(log_ps, labels)\n",
    "        loss.backward()\n",
    "        optimizer1.step()\n",
    "        \n",
    "        running_loss += loss.item()\n",
    "    \n",
    "    else:\n",
    "        t_loss = 0\n",
    "        accuracy = 0\n",
    "        \n",
    "        with torch.no_grad():\n",
    "            for images, labels in testloader:\n",
    "                log_ps = model1(images)\n",
    "                t_loss += criterion1(log_ps, labels)\n",
    "                \n",
    "                ps = torch.exp(log_ps)\n",
    "                top_p, top_class = ps.topk(1,dim=1)\n",
    "                equals = top_class == labels.view(*top_class.shape)\n",
    "                accuracy += torch.mean(equals.type(torch.FloatTensor))\n",
    "                \n",
    "                \n",
    "        train_losses1.append(running_loss/len(trainloader))\n",
    "        test_losses1.append(t_loss/len(testloader))\n",
    "        test_accuracy1.append(accuracy/len(testloader))\n",
    "        \n",
    "        \n",
    "        print(f\"Epoch: {e+1}/{epochs}..\\t Training Loss: {running_loss/len(trainloader):.3f}..\\t Test Loss: {t_loss/len(testloader):.3f}..\\t Test Accuracy: {accuracy/len(testloader):.3f}\")\n",
    "        \n",
    "        \n",
    "    "
   ]
  },
  {
   "cell_type": "markdown",
   "metadata": {},
   "source": [
    "***\n",
    "## Overfitting\n",
    "\n",
    "If we look at the training and validation losses as we train the network, we can see a phenomenon known as overfitting.\n",
    "\n",
    "<img src='../data/assets/overfitting.png' width=450px>\n",
    "\n",
    "The network learns the training set better and better, resulting in lower training losses. However, it starts having problems generalizing to data outside the training set leading to the validation loss increasing. The ultimate goal of any deep learning model is to make predictions on new data, so we should strive to get the lowest validation loss possible. One option is to use the version of the model with the lowest validation loss, here the one around 8-10 training epochs. This strategy is called *early-stopping*. In practice, you'd save the model frequently as you're training then later choose the model with the lowest validation loss.\n",
    "\n",
    "The most common method to reduce overfitting (outside of early-stopping) is *dropout*, where we randomly drop input units. This forces the network to share information between weights, increasing it's ability to generalize to new data. Adding dropout in PyTorch is straightforward using the [`nn.Dropout`](https://pytorch.org/docs/stable/nn.html#torch.nn.Dropout) module.\n",
    "\n",
    "```python\n",
    "class Classifier(nn.Module):\n",
    "    def __init__(self):\n",
    "        super().__init__()\n",
    "        self.fc1 = nn.Linear(784, 256)\n",
    "        self.fc2 = nn.Linear(256, 128)\n",
    "        self.fc3 = nn.Linear(128, 64)\n",
    "        self.fc4 = nn.Linear(64, 10)\n",
    "        \n",
    "        # Dropout module with 0.2 drop probability\n",
    "        self.dropout = nn.Dropout(p=0.2)\n",
    "        \n",
    "    def forward(self, x):\n",
    "        # make sure input tensor is flattened\n",
    "        x = x.view(x.shape[0], -1)\n",
    "        \n",
    "        # Now with dropout\n",
    "        x = self.dropout(F.relu(self.fc1(x)))\n",
    "        x = self.dropout(F.relu(self.fc2(x)))\n",
    "        x = self.dropout(F.relu(self.fc3(x)))\n",
    "        \n",
    "        # output so no dropout here\n",
    "        x = F.log_softmax(self.fc4(x), dim=1)\n",
    "        \n",
    "        return x\n",
    "```\n",
    "\n",
    "During training we want to use dropout to prevent overfitting, but during inference we want to use the entire network. So, we need to turn off dropout during validation, testing, and whenever we're using the network to make predictions. To do this, you use `model.eval()`. This sets the model to evaluation mode where the dropout probability is 0. You can turn dropout back on by setting the model to train mode with `model.train()`. In general, the pattern for the validation loop will look like this, where you turn off gradients, set the model to evaluation mode, calculate the validation loss and metric, then set the model back to train mode.\n",
    "\n",
    "```python\n",
    "# turn off gradients\n",
    "with torch.no_grad():\n",
    "    \n",
    "    # set model to evaluation mode\n",
    "    model.eval()\n",
    "    \n",
    "    # validation pass here\n",
    "    for images, labels in testloader:\n",
    "        ...\n",
    "\n",
    "# set model back to train mode\n",
    "model.train()\n",
    "```"
   ]
  },
  {
   "cell_type": "markdown",
   "metadata": {},
   "source": [
    "***\n",
    "### Exercise:\n",
    "\n",
    "**Part A**: Define network with dropout."
   ]
  },
  {
   "cell_type": "code",
   "execution_count": 9,
   "metadata": {
    "tags": []
   },
   "outputs": [],
   "source": [
    "## Task 2:\n",
    "## Your code here \n",
    "class Classifier(nn.Module):\n",
    "    def __init__(self):\n",
    "        super().__init__()\n",
    "        self.fc1 = nn.Linear(784, 256)\n",
    "        self.fc2 = nn.Linear(256, 128)\n",
    "        self.fc3 = nn.Linear(128, 64)\n",
    "        self.fc4 = nn.Linear(64, 10)\n",
    "        \n",
    "        self.dropout = nn.Dropout(p=0.2)\n",
    "    \n",
    "    def forward(self, x):\n",
    "        x = x.view(x.shape[0], -1)\n",
    "        \n",
    "        x = self.dropout(F.relu(self.fc1(x)))\n",
    "        x = self.dropout(F.relu(self.fc2(x)))\n",
    "        x = self.dropout(F.relu(self.fc3(x)))\n",
    "        x = F.log_softmax(self.fc4(x), dim=1)\n",
    "        \n",
    "        return x\n",
    "        "
   ]
  },
  {
   "cell_type": "markdown",
   "metadata": {},
   "source": [
    "***\n",
    "**Part B**: Train the network with Fashion-MNIST again.\n",
    "- monitor the training progress with the validation loss and accuracy"
   ]
  },
  {
   "cell_type": "code",
   "execution_count": 10,
   "metadata": {
    "tags": []
   },
   "outputs": [
    {
     "name": "stdout",
     "output_type": "stream",
     "text": [
      "Epoch: 1/30..\t Training Loss: 0.609..\t Test Loss: 0.467..\t Test Accuracy: 0.830\n",
      "Epoch: 2/30..\t Training Loss: 0.478..\t Test Loss: 0.415..\t Test Accuracy: 0.850\n",
      "Epoch: 3/30..\t Training Loss: 0.451..\t Test Loss: 0.419..\t Test Accuracy: 0.850\n",
      "Epoch: 4/30..\t Training Loss: 0.431..\t Test Loss: 0.417..\t Test Accuracy: 0.853\n",
      "Epoch: 5/30..\t Training Loss: 0.423..\t Test Loss: 0.418..\t Test Accuracy: 0.850\n",
      "Epoch: 6/30..\t Training Loss: 0.412..\t Test Loss: 0.416..\t Test Accuracy: 0.855\n",
      "Epoch: 7/30..\t Training Loss: 0.405..\t Test Loss: 0.405..\t Test Accuracy: 0.861\n",
      "Epoch: 8/30..\t Training Loss: 0.398..\t Test Loss: 0.385..\t Test Accuracy: 0.865\n",
      "Epoch: 9/30..\t Training Loss: 0.390..\t Test Loss: 0.394..\t Test Accuracy: 0.861\n",
      "Epoch: 10/30..\t Training Loss: 0.390..\t Test Loss: 0.405..\t Test Accuracy: 0.865\n",
      "Epoch: 11/30..\t Training Loss: 0.388..\t Test Loss: 0.396..\t Test Accuracy: 0.861\n",
      "Epoch: 12/30..\t Training Loss: 0.382..\t Test Loss: 0.392..\t Test Accuracy: 0.853\n",
      "Epoch: 13/30..\t Training Loss: 0.373..\t Test Loss: 0.382..\t Test Accuracy: 0.866\n",
      "Epoch: 14/30..\t Training Loss: 0.367..\t Test Loss: 0.370..\t Test Accuracy: 0.873\n",
      "Epoch: 15/30..\t Training Loss: 0.365..\t Test Loss: 0.376..\t Test Accuracy: 0.874\n",
      "Epoch: 16/30..\t Training Loss: 0.363..\t Test Loss: 0.392..\t Test Accuracy: 0.862\n",
      "Epoch: 17/30..\t Training Loss: 0.363..\t Test Loss: 0.372..\t Test Accuracy: 0.870\n",
      "Epoch: 18/30..\t Training Loss: 0.361..\t Test Loss: 0.383..\t Test Accuracy: 0.870\n",
      "Epoch: 19/30..\t Training Loss: 0.363..\t Test Loss: 0.381..\t Test Accuracy: 0.869\n",
      "Epoch: 20/30..\t Training Loss: 0.360..\t Test Loss: 0.377..\t Test Accuracy: 0.872\n",
      "Epoch: 21/30..\t Training Loss: 0.355..\t Test Loss: 0.369..\t Test Accuracy: 0.877\n",
      "Epoch: 22/30..\t Training Loss: 0.346..\t Test Loss: 0.382..\t Test Accuracy: 0.868\n",
      "Epoch: 23/30..\t Training Loss: 0.350..\t Test Loss: 0.377..\t Test Accuracy: 0.868\n",
      "Epoch: 24/30..\t Training Loss: 0.346..\t Test Loss: 0.386..\t Test Accuracy: 0.865\n",
      "Epoch: 25/30..\t Training Loss: 0.351..\t Test Loss: 0.380..\t Test Accuracy: 0.875\n",
      "Epoch: 26/30..\t Training Loss: 0.345..\t Test Loss: 0.387..\t Test Accuracy: 0.872\n",
      "Epoch: 27/30..\t Training Loss: 0.338..\t Test Loss: 0.366..\t Test Accuracy: 0.876\n",
      "Epoch: 28/30..\t Training Loss: 0.357..\t Test Loss: 0.367..\t Test Accuracy: 0.877\n",
      "Epoch: 29/30..\t Training Loss: 0.342..\t Test Loss: 0.375..\t Test Accuracy: 0.872\n",
      "Epoch: 30/30..\t Training Loss: 0.346..\t Test Loss: 0.390..\t Test Accuracy: 0.862\n"
     ]
    }
   ],
   "source": [
    "## Task 3:\n",
    "## Your code here \n",
    "train_losses2 = []\n",
    "test_losses2 = []\n",
    "test_accuracy2 = []\n",
    "\n",
    "model2 = Classifier()\n",
    "criterion2 = nn.NLLLoss()\n",
    "optimizer2 = optim.Adam(model2.parameters(), lr=0.003)\n",
    "\n",
    "epochs = 30\n",
    "\n",
    "for e in range(epochs):\n",
    "    running_loss = 0\n",
    "    model2.train()\n",
    "    for images, labels in trainloader:\n",
    "        \n",
    "        optimizer2.zero_grad()\n",
    "        \n",
    "        log_ps = model2(images)\n",
    "        loss = criterion2(log_ps, labels)\n",
    "        loss.backward()\n",
    "        optimizer2.step()\n",
    "        \n",
    "        running_loss += loss.item()\n",
    "    \n",
    "    else:\n",
    "        t_loss = 0\n",
    "        accuracy = 0\n",
    "        \n",
    "        with torch.no_grad():\n",
    "            model2.eval()\n",
    "            for images, labels in testloader:\n",
    "                log_ps = model2(images)\n",
    "                t_loss += criterion2(log_ps, labels)\n",
    "                \n",
    "                ps = torch.exp(log_ps)\n",
    "                top_p, top_class = ps.topk(1,dim=1)\n",
    "                equals = top_class == labels.view(*top_class.shape)\n",
    "                accuracy += torch.mean(equals.type(torch.FloatTensor))\n",
    "                \n",
    "                \n",
    "        train_losses2.append(running_loss/len(trainloader))\n",
    "        test_losses2.append(t_loss/len(testloader))\n",
    "        test_accuracy2.append(accuracy/len(testloader))\n",
    "        \n",
    "        print(f\"Epoch: {e+1}/{epochs}..\\t Training Loss: {running_loss/len(trainloader):.3f}..\\t Test Loss: {t_loss/len(testloader):.3f}..\\t Test Accuracy: {accuracy/len(testloader):.3f}\")\n",
    "        \n",
    "     \n",
    " "
   ]
  },
  {
   "cell_type": "markdown",
   "metadata": {},
   "source": [
    "***\n",
    "**Part C**: Plot training loss and validation loss to see if you can get a lower validation loss or higher accuracy."
   ]
  },
  {
   "cell_type": "code",
   "execution_count": 11,
   "metadata": {
    "tags": []
   },
   "outputs": [],
   "source": [
    "%matplotlib inline\n",
    "%config InlineBackend.figure_format = 'retina'\n",
    "\n",
    "import matplotlib.pyplot as plt"
   ]
  },
  {
   "cell_type": "code",
   "execution_count": 12,
   "metadata": {
    "tags": []
   },
   "outputs": [
    {
     "data": {
      "text/plain": [
       "<matplotlib.legend.Legend at 0x7f38078def90>"
      ]
     },
     "execution_count": 12,
     "metadata": {},
     "output_type": "execute_result"
    },
    {
     "data": {
      "image/png": "[encoded data removed]",
      "text/plain": [
       "<Figure size 640x480 with 1 Axes>"
      ]
     },
     "metadata": {
      "image/png": {
       "height": 413,
       "width": 558
      }
     },
     "output_type": "display_data"
    }
   ],
   "source": [
    "## Task 4:\n",
    "## Your code here\n",
    "import numpy as np\n",
    "x = np.arange(0,30)\n",
    "plt.plot(x,train_losses2,label=\"Training loss\")\n",
    "plt.plot(x,test_losses2,label=\"Validation loss\")\n",
    "plt.legend()\n",
    "\n",
    " "
   ]
  },
  {
   "cell_type": "markdown",
   "metadata": {},
   "source": [
    "***\n",
    "### More about overfitting \n",
    "\n",
    "\"Dropout\" method helps to cope with overfitting. However it makes model debuging bit harder and you must remember to turn dropout OFF while using the network, i.e. dropout is used only in training. But don't worry Pytorch will do it for you if you remember initialize dropout \n",
    "\n",
    "```python\n",
    "# Dropout module with 0.2 drop probability\n",
    "        self.dropout = nn.Dropout(p=0.2)\n",
    "```\n",
    "\n",
    "and set model to evaluation mode\n",
    "        \n",
    "```python\n",
    "# set model to evaluation mode\n",
    "    model.eval()\n",
    "```       \n",
    "\n",
    "these are not preferred method for overfitting.\n",
    "\n",
    "#### Other methods to cope with overfitting\n",
    "\n",
    "##### Early-stopping\n",
    "\n",
    "Training stopping at the point where it reaches best performance (= minimum error/loss), is also used to cope with overfitting, but this is not recommended because this limits training data usage to some maximum amount. And because modern deep learning models are based to training with big data amounts, this is very tricky combination...\n",
    "\n",
    "<img src='../data/assets/Early_stopping.svg' width=400px>\n",
    "\n",
    "\n",
    "##### Regulation\n",
    "Another very popular method for overfitting is regularization. This method is based on target to minimize weights (=co-efficients = w) in the network. This is done by adding the `|w|` or `|w|^2` to loss function.\n",
    "\n",
    "<img src='../data/assets/Error_function_reg.svg' width=700px>\n",
    "\n"
   ]
  },
  {
   "cell_type": "markdown",
   "metadata": {},
   "source": [
    "## Inference\n",
    "\n",
    "Now that the model is trained, we can use it for inference. We've done this before, but now we need to remember to set the model in inference mode with `model.eval()`. You'll also want to turn off autograd with the `torch.no_grad()` context."
   ]
  },
  {
   "cell_type": "code",
   "execution_count": 13,
   "metadata": {},
   "outputs": [
    {
     "name": "stdout",
     "output_type": "stream",
     "text": [
      "Label: 7\n"
     ]
    },
    {
     "data": {
      "image/png": "[encoded data removed]",
      "text/plain": [
       "<Figure size 600x900 with 2 Axes>"
      ]
     },
     "metadata": {
      "image/png": {
       "height": 301,
       "width": 589
      }
     },
     "output_type": "display_data"
    }
   ],
   "source": [
    "# Import helper module (should be in the repo)\n",
    "import sys\n",
    "sys.path.insert(0, '../answers')\n",
    "import helper\n",
    "\n",
    "# Test out your network!\n",
    "\n",
    "model2.eval()\n",
    "\n",
    "dataiter = iter(testloader)\n",
    "images, labels = next(dataiter)\n",
    "img = images[0]\n",
    "# Convert 2D image to 1D vector\n",
    "img = img.view(1, 784)\n",
    "\n",
    "# Calculate the class probabilities (softmax) for img\n",
    "with torch.no_grad():\n",
    "    output = model2.forward(img)\n",
    "\n",
    "ps = torch.exp(output)\n",
    "\n",
    "# Plot the image and probabilities\n",
    "helper.view_classify(img.view(1, 28, 28), ps, version='Fashion')\n",
    "\n",
    "print('Label:', labels[0].item())"
   ]
  },
  {
   "cell_type": "markdown",
   "metadata": {},
   "source": [
    "## Next Up!\n",
    "\n",
    "In the next part, I'll show you how to save your trained models. In general, you won't want to train a model everytime you need it. Instead, you'll train once, save it, then load the model when you want to train more or use if for inference."
   ]
  },
  {
   "cell_type": "markdown",
   "metadata": {},
   "source": [
    "## Reflection\n",
    "\n",
    "Answer briefly following questions (in English or Finnish):\n",
    "- What is overfitting?\n",
    "- How you can avoid overfitting?\n",
    "\n",
    "#### Network Performance\n",
    "\n",
    "- Does network Training Loss decrease monotonously? What about Validation Loss?\n",
    "- sipuli\n"
   ]
  },
  {
   "cell_type": "markdown",
   "metadata": {},
   "source": [
    "## What is overfitting?\n",
    "\n",
    "Kun malli oppii liikaa muistamaan tai tunnistamaan training setin ominaisuuksia, sen sijaan että osaisi tunnistaa uutta dataa ja tämän vuoksi suoriutuu huonosti tai huonommin uudessa datassa.\n",
    "Näin voi käydä esim:\n",
    "- Kun training settiä \"pyöritetään\" mallin läpi liian monta kertaa\n",
    "- Data on samassa järjestyksessä, eli ei sekoitu\n",
    "- Dataa on liika vähän\n",
    "- Datassa on turhaa informaatiota, joka ei ole lopputuloksen kannalta tärkeää.\n",
    "- Joskus malli voi olla myös liian monimutkainen ja oppia \"noisen\" datasetistä.\n",
    "\n",
    "## How you can avoid overfitting?\n",
    "Ensimmäinen askel on tietenkin mallin kehityksen seuranta, kuten tehtävissä tehtiin, jotta tiedetään onko malli \"overfitannu\", vertaamalla tulosta ennen näkemättömään dataan.\n",
    "\n",
    "Seuraavilla tavoilla voi välttää overfittingiä:\n",
    "- Datan sekoittaminen, eli järjestyksen muuttaminen yksinkertaisesti.\n",
    "- Lopettamalla aikaisemmin \"Early stopping\", kun malli suoriutuu vielä hyvin molemmissa, training ja testi setissä.\n",
    "- \"Regularization\", joka minimisoi painoarvoja. Voisi sanoa myös, että estää oppimasta liian monimutkaisia ominaisuuksia\n",
    "- dropout, tiputtaa randomisti inputin arvoja.\n",
    "\n",
    "## Does network Training Loss decrease monotonously? What about Validation Loss?\n",
    "Ei kirjaimellisesti jatkuvasti, mutta pääpiirteittän laskee tiettyyn pisteeseen. Samoin validation loss, laskee kunnes pomppii tiettyjen arvojen välissä. Toki jos overfittingiä ei ole otettu huomioon, eikä ole tehty mitään sen estämiseksi, validation loss saattaa koulutuksen loppuvaiheilla lähtä nousuun. Tämä on hyvä merkki siitä, että malli on overfitattu.\n",
    "\n",
    "Joten voisi sanoa että ei laske jatkuvasti, vaikka suunta on alaspäin. Ei se tarkoita että joka kierroksen jälkeen training loss ja validation loss laskee, vaan voi jopa lähtä suurempaan nousuunkin. Tätä tarkkailemalla näkee mallin suorituskykyä, sekä overfittingin ja underfittingin mahdollisuuksia.\n",
    "\n",
    "## Is the performance better when using dropout with 20% drop rate? What about if you change drop rate?\n",
    "On, sillä se suoriutuu paljon paremmin uuden datan kanssa, joka on koko neuroverkon koulutuksen pointti yleensä. \n",
    "\n",
    "Nostamalla dropout ratea, malli suoriutuu heikommin, sillä se oppii todennäköisesti liian yksinkertaisia ominaisuuksia. Ja vastaavasti liian pienellä, ei saada overfittingiä karsittua pois. Esim 0.001 drop rate tuskin vaikuttaa merkittävästi malliin, vaan on lähes sama kuin drop ratea ei olisi ollenkaan."
   ]
  },
  {
   "cell_type": "markdown",
   "metadata": {},
   "source": [
    "### Check your answers by running following cell:"
   ]
  },
  {
   "cell_type": "code",
   "execution_count": 14,
   "metadata": {
    "tags": []
   },
   "outputs": [
    {
     "name": "stdout",
     "output_type": "stream",
     "text": [
      "Results:\n",
      "\n",
      "Without dropout:\n",
      "Classifier(\n",
      "  (fc1): Linear(in_features=784, out_features=256, bias=True)\n",
      "  (fc2): Linear(in_features=256, out_features=128, bias=True)\n",
      "  (fc3): Linear(in_features=128, out_features=64, bias=True)\n",
      "  (fc4): Linear(in_features=64, out_features=10, bias=True)\n",
      ")\n",
      "NLLLoss()\n",
      "Adam (\n",
      "Parameter Group 0\n",
      "    amsgrad: False\n",
      "    betas: (0.9, 0.999)\n",
      "    capturable: False\n",
      "    differentiable: False\n",
      "    eps: 1e-08\n",
      "    foreach: None\n",
      "    fused: None\n",
      "    lr: 0.003\n",
      "    maximize: False\n",
      "    weight_decay: 0\n",
      ")\n",
      "\n",
      "With dropout:\n",
      "Classifier(\n",
      "  (fc1): Linear(in_features=784, out_features=256, bias=True)\n",
      "  (fc2): Linear(in_features=256, out_features=128, bias=True)\n",
      "  (fc3): Linear(in_features=128, out_features=64, bias=True)\n",
      "  (fc4): Linear(in_features=64, out_features=10, bias=True)\n",
      "  (dropout): Dropout(p=0.2, inplace=False)\n",
      ")\n",
      "NLLLoss()\n",
      "Adam (\n",
      "Parameter Group 0\n",
      "    amsgrad: False\n",
      "    betas: (0.9, 0.999)\n",
      "    capturable: False\n",
      "    differentiable: False\n",
      "    eps: 1e-08\n",
      "    foreach: None\n",
      "    fused: None\n",
      "    lr: 0.003\n",
      "    maximize: False\n",
      "    weight_decay: 0\n",
      ")\n",
      "Without dropout\n",
      "Train loss:  0.17876595920964536\n",
      "Test loss:  tensor(0.4079)\n",
      "\n",
      "With dropout\n",
      "Train loss:  0.3456596346266234\n",
      "Test loss:  tensor(0.3902)\n",
      "\n",
      "'training_losses' are ok!\n",
      "\n",
      "\n",
      "Without dropout\n",
      "Accuracy:  tensor(0.8901)\n",
      "\n",
      "With dropout\n",
      "Accuracy:  tensor(0.8616)\n",
      "\n",
      "'accuracies' are ok!\n"
     ]
    }
   ],
   "source": [
    "# Do not change this code!\n",
    "\n",
    "import sys\n",
    "sys.path.insert(0, '../answers/part5/')\n",
    "from part5_check import *\n",
    "\n",
    "\n",
    "print(\"Results:\\n\")\n",
    "\n",
    "print(\"Without dropout:\")\n",
    "print(model1)\n",
    "print(criterion1)\n",
    "print(optimizer1)\n",
    "\n",
    "print(\"\\nWith dropout:\")\n",
    "print(model2)\n",
    "print(criterion2)\n",
    "print(optimizer2)\n",
    "\n",
    "losses_check(train_losses1, test_losses1, train_losses2, test_losses2)\n",
    "accuracies_check(test_accuracy1, test_accuracy2)\n"
   ]
  },
  {
   "cell_type": "markdown",
   "metadata": {},
   "source": [
    "### Great work!"
   ]
  },
  {
   "cell_type": "code",
   "execution_count": null,
   "metadata": {},
   "outputs": [],
   "source": []
  }
 ],
 "metadata": {
  "kernelspec": {
   "display_name": "Python 3 (ipykernel)",
   "language": "python",
   "name": "python3"
  },
  "language_info": {
   "codemirror_mode": {
    "name": "ipython",
    "version": 3
   },
   "file_extension": ".py",
   "mimetype": "text/x-python",
   "name": "python",
   "nbconvert_exporter": "python",
   "pygments_lexer": "ipython3",
   "version": "3.11.6"
  }
 },
 "nbformat": 4,
 "nbformat_minor": 4
}
